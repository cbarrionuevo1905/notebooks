{
 "cells": [
  {
   "cell_type": "markdown",
   "id": "bf35f8b8-198d-49b9-9a3d-e0dc18fbb887",
   "metadata": {},
   "source": [
    "# MI PRIMER NOTEBOOK\n",
    "## OBJETIVOS\n",
    "### FIN DE SEMANA\n",
    "Teoria de los circuitos 2\n",
    "- Realizar mi primer notebook\n",
    "- Repasar conceptos de TC1\n",
    "- Rehacer Tarea Semanal 0\n",
    "- Rehacer Tarea Semanal 1\n",
    "- Hacer Tarea Semanal 2"
   ]
  },
  {
   "cell_type": "markdown",
   "id": "980e2f40-241f-408e-8d40-e3fb931a1deb",
   "metadata": {},
   "source": [
    "$e^{i\\pi} + 1 = 0$"
   ]
  },
  {
   "cell_type": "markdown",
   "id": "5c1815a3-cd3e-48c5-b2ac-ac989f6d5255",
   "metadata": {},
   "source": [
    "**literal asterisks**\n",
    " *literal asterisks*"
   ]
  },
  {
   "cell_type": "code",
   "execution_count": null,
   "id": "b25b883f-4b5a-4c93-baac-3fa13956a74e",
   "metadata": {},
   "outputs": [],
   "source": []
  }
 ],
 "metadata": {
  "kernelspec": {
   "display_name": "Python 3 (ipykernel)",
   "language": "python",
   "name": "python3"
  },
  "language_info": {
   "codemirror_mode": {
    "name": "ipython",
    "version": 3
   },
   "file_extension": ".py",
   "mimetype": "text/x-python",
   "name": "python",
   "nbconvert_exporter": "python",
   "pygments_lexer": "ipython3",
   "version": "3.12.10"
  }
 },
 "nbformat": 4,
 "nbformat_minor": 5
}
