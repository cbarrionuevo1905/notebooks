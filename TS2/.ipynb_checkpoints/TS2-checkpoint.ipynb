{
 "cells": [
  {
   "cell_type": "code",
   "execution_count": 1,
   "id": "656365be-ed3e-4160-a0c6-76c92692755a",
   "metadata": {
    "jupyter": {
     "source_hidden": true
    }
   },
   "outputs": [],
   "source": [
    "import numpy as np\n",
    "import matplotlib as mpl\n",
    "from matplotlib import pyplot as plt\n",
    "\n",
    "# módulo de SciPy\n",
    "from scipy import signal as sig\n",
    "\n",
    "# Esta parte de código la agregamos SOLO en los notebooks para fijar el estilo de los gráficos.\n",
    "fig_sz_x = 13\n",
    "fig_sz_y = 7\n",
    "fig_dpi = 80 # dpi\n",
    "fig_font_size = 13\n",
    "\n",
    "mpl.rcParams['figure.figsize'] = (fig_sz_x, fig_sz_y)\n",
    "mpl.rcParams['figure.dpi'] = fig_dpi\n",
    "plt.rcParams.update({'font.size':fig_font_size})"
   ]
  },
  {
   "cell_type": "code",
   "execution_count": 2,
   "id": "b9b7b69d-d774-4fc7-a0e5-4d07adea7204",
   "metadata": {
    "jupyter": {
     "source_hidden": true
    }
   },
   "outputs": [],
   "source": [
    "# from pytc2.sistemas_lineales import analyze_sys, bodePlot, pzmap, pretty_print_bicuad_omegayq\n",
    "from pytc2.general import print_latex, a_equal_b_latex_s\n",
    "\n",
    "from schemdraw import Drawing\n",
    "from pytc2.dibujar import dibujar_espacio_derivacion, dibujar_elemento_serie, dibujar_elemento_derivacion, dibujar_puerto_salida, dibujar_puerto_entrada\n",
    "from pytc2.general import to_latex"
   ]
  },
  {
   "cell_type": "markdown",
   "id": "bd9534ca-171b-4b12-ab2b-f0e8f55f5ecb",
   "metadata": {},
   "source": [
    "<img src=\"./logo_UTN.svg\" align=\"right\" width=\"150\" /> \n",
    "\n",
    "### Teoría de Circuitos II\n",
    "#### Barrionuevo Cecilia\n",
    "\n",
    "# Tarea Semanal 2\n",
    "\n",
    "<img src=\"./TS2_circuito.png\"/> \n",
    "\n",
    "\n",
    "Consignas de la actividad:\n",
    "\n",
    "👉  Hallar la transferencia T=VoVi en función de ωo y Q.\n",
    "\n",
    "👉  Hallar los parámetros ωo y Q y k.\n",
    "\n",
    "👉  Cómo podría obtener un circuito pasabanda con los mismos componentes originales y con qué parámetros quedaría diseñado ( Ver ejemplo 4.6 en Schaumann , pag. 159 ).\n",
    "\n",
    "Bonus:\n",
    "\n",
    "💎 Obtener los valores de la red normalizados en frecuencia e impedancia.\n",
    "\n",
    "💎 Simulación en Python de la Transferencia normalizada.\n",
    "\n",
    "💎 Simulación Circuital de la red con los valores normalizados. Simule la respuesta de modulo en forma paramétrica convenientemente para graficar curvas pasabanda con Q: 1:100 en pasos de 10."
   ]
  },
  {
   "cell_type": "markdown",
   "id": "a44c4d24-f36d-4b4c-9814-e9f8587a975e",
   "metadata": {},
   "source": [
    "###  Hallar la transferencia T=VoVi en función de ωo y Q.\n",
    "\n",
    "<img src=\"./1_6.jpg\"/> \n",
    "<img src=\"./2_6.jpg\"/> \n",
    "\n",
    "$$H(s) = - \\frac{G_1.G_3}{s^2.C^2 + s.C.G_2 + G_3^2}$$\n",
    "$$H(s) = -\\frac{G_1}{G_3} . \\frac{(\\frac{G_3}{C})^2} {s^2 + s.\\frac{G_2}{C} + (\\frac{G_3}{C})^2}$$\n",
    "Concluimos que es un filtro pasa bajos de segundo orden, dos polos complejos conjungados y ningun cero."
   ]
  },
  {
   "cell_type": "markdown",
   "id": "7be1f4b6-95a6-44af-a688-9999eea946ba",
   "metadata": {},
   "source": [
    "###  Hallar los parámetros ωo y Q y k.\n",
    "\n",
    "<img src=\"./3_6.jpg\"/> \n",
    "\n",
    "$$K = -\\frac{G_1}{G_3}$$\n",
    "$$\\omega_0^2=(\\frac{G_3}{C})^2$$\n",
    "$$\\frac{\\omega_0}{Q}= \\frac{G_2}{C}$$\n",
    "\\\\\n",
    "$$\\omega_0=\\frac{G_3}{C}$$\n",
    "$$Q = \\frac{G_3}{G_2}$$"
   ]
  },
  {
   "cell_type": "markdown",
   "id": "610d5ecf-ee6a-4636-8f57-6e0c0ff571ae",
   "metadata": {},
   "source": [
    "## Bonus\n",
    "💎 Obtener los valores de la red normalizados en frecuencia e impedancia.\n",
    "\n",
    "<img src=\"./4_6.jpg\"/> \n",
    "\n",
    "Debido a la dispersion de los componentes, establecemos a los capacitores con un valor unitario de normalizacion\n",
    "$$C=1$$\n",
    "Ademas, establecemos nuestra frecuencia de normalizacion:\n",
    "$$\\Omega_N = \\omega_0$$\n",
    "$$\\omega_n = \\frac{\\omega_0}{\\Omega_N} = 1$$\n",
    "\n",
    "$$G_3 = 1$$\n",
    "Ademas, arbitrariamente establecemos $R_4 =1$, ya que no limita mucho los grados de libertad.\n",
    "$$G_2 = Q$$\n",
    "$$G_1 = -K$$"
   ]
  },
  {
   "cell_type": "markdown",
   "id": "313229a2-5886-4993-9446-43b500a378d5",
   "metadata": {},
   "source": [
    "###  Cómo podría obtener un circuito pasabanda con los mismos componentes originales y con qué parámetros quedaría diseñado ( Ver ejemplo 4.6 en Schaumann , pag. 159 ).\n",
    "\n",
    "Segun la bibliografia, el filtro Ackerberg-Mossberg posee un nodo $V_B$ del cual, si lo utilizamos como tension de salida, obtenemos un comportamiento pasabanda.\n",
    "\n",
    "<img src=\"./TS0_circuito_anexo.jpg\"/>\n",
    "\n",
    "<img src=\"./5_6.jpg\"/>\n",
    "<img src=\"./6_6.jpg\"/> \n",
    "\n"
   ]
  }
 ],
 "metadata": {
  "kernelspec": {
   "display_name": "Python 3 (ipykernel)",
   "language": "python",
   "name": "python3"
  },
  "language_info": {
   "codemirror_mode": {
    "name": "ipython",
    "version": 3
   },
   "file_extension": ".py",
   "mimetype": "text/x-python",
   "name": "python",
   "nbconvert_exporter": "python",
   "pygments_lexer": "ipython3",
   "version": "3.12.10"
  }
 },
 "nbformat": 4,
 "nbformat_minor": 5
}
