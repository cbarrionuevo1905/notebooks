{
 "cells": [
  {
   "cell_type": "code",
   "execution_count": 2,
   "id": "fede4935-e313-462a-bd84-5cdc31fd7146",
   "metadata": {},
   "outputs": [],
   "source": [
    "import numpy as np\n",
    "import matplotlib as mpl\n",
    "from matplotlib import pyplot as plt\n",
    "\n",
    "# módulo de SciPy\n",
    "from scipy import signal as sig\n",
    "\n",
    "# Esta parte de código la agregamos SOLO en los notebooks para fijar el estilo de los gráficos.\n",
    "fig_sz_x = 13\n",
    "fig_sz_y = 7\n",
    "fig_dpi = 80 # dpi\n",
    "fig_font_size = 13\n",
    "\n",
    "mpl.rcParams['figure.figsize'] = (fig_sz_x, fig_sz_y)\n",
    "mpl.rcParams['figure.dpi'] = fig_dpi\n",
    "plt.rcParams.update({'font.size':fig_font_size})"
   ]
  },
  {
   "cell_type": "code",
   "execution_count": 3,
   "id": "78332a21-dd75-4af3-b707-39724dcc9bb4",
   "metadata": {},
   "outputs": [],
   "source": [
    "# from pytc2.sistemas_lineales import analyze_sys, bodePlot, pzmap, pretty_print_bicuad_omegayq\n",
    "from pytc2.general import print_latex, a_equal_b_latex_s\n",
    "\n",
    "from schemdraw import Drawing\n",
    "from pytc2.dibujar import dibujar_espacio_derivacion, dibujar_elemento_serie, dibujar_elemento_derivacion, dibujar_puerto_salida, dibujar_puerto_entrada\n",
    "from pytc2.general import to_latex"
   ]
  },
  {
   "cell_type": "markdown",
   "id": "9bff177c-ca4c-40e4-ae27-b978f2150973",
   "metadata": {},
   "source": [
    "<img src=\"./logo_UTN.svg\" align=\"right\" width=\"150\" /> \n",
    "\n",
    "### Teoría de Circuitos II\n",
    "#### Barrionuevo Cecilia\n",
    "\n",
    "# Tarea Semanal 6\n",
    "\n",
    "Dadas las siguientes topologías circuitales:\n",
    "\n",
    "<img src=\"./TS6_circuito.JPG\"/> \n",
    "\n",
    "1. Obtenga un solo juego de parámetros en forma analítica para cada caso:  Z, Y ó ABCD aplicando la definición:\n",
    "\n",
    "$$V1=I1.Z11+I2.Z12$$\n",
    "$$V2=I1.Z21+I2.Z22$$\n",
    "\\\n",
    "$$I1=V1.Y11+V2.Y12$$\n",
    "$$I2=V1.Y21+V2.Y22$$\n",
    "\\\n",
    "$$V1=V2.A+(−I2).B$$\n",
    "$$I1=V2.C+(−I2).D$$\n",
    "\n",
    "\n",
    "2. Aplicar transformación de parámetros para hallar los Z,Y si lo obtenido fue ABCD ó viceversa.\n",
    "  "
   ]
  },
  {
   "cell_type": "markdown",
   "id": "0b44df7e-f4e9-4dab-9035-9617c165a6a2",
   "metadata": {},
   "source": [
    "# ANEXO: TRANSFORMACIONES UTILIZADAS\n",
    "\n",
    "<img src=\"./TS6_anexo.JPG\"/> "
   ]
  },
  {
   "cell_type": "markdown",
   "id": "077c03b3-600f-4ef1-8002-96bd28127cff",
   "metadata": {},
   "source": [
    "# CIRCUITO 1\n",
    "# PARAMETROS Z\n",
    "<img src=\"./0_13.jpg\"/> \n",
    "\n",
    "# PARAMETROS ABCD\n",
    "\n",
    "<img src=\"./2_13.jpg\"/> \n",
    "<img src=\"./3_13.jpg\"/> \n",
    "\n",
    "# TRANSFORMACION DE PARAMETROS Z A ABCD\n",
    "\n",
    "<img src=\"./4_13.jpg\"/> \n"
   ]
  },
  {
   "cell_type": "markdown",
   "id": "a544be96-89f8-44bc-9448-c63ee3204ac5",
   "metadata": {},
   "source": [
    "# CIRCUITO 2\n",
    "# PARAMETROS Y\n",
    "<img src=\"./5_13.jpg\"/> \n",
    "\n",
    "# TRANSFORMACION DE PARAMETROS Y A ABCD\n",
    "\n",
    "<img src=\"./6_13.jpg\"/> \n"
   ]
  },
  {
   "cell_type": "markdown",
   "id": "eb2af02a-0544-4a13-9382-f17c15f22582",
   "metadata": {},
   "source": [
    "# CIRCUITO 3\n",
    "# PARAMETROS ABCD Y TRANSFORMACION A PARAMETROS Z\n",
    "<img src=\"./7_13.jpg\"/> \n",
    "<img src=\"./8_13.jpg\"/> \n",
    "<img src=\"./9_13.jpg\"/> \n"
   ]
  },
  {
   "cell_type": "markdown",
   "id": "b88fb51d-87a7-4f9c-bc70-287cdcdc2ae2",
   "metadata": {},
   "source": [
    "# CIRCUITO 4\n",
    "# PARAMETROS Z \n",
    "<img src=\"./10_13.jpg\"/> \n",
    "\n",
    "# TRANSFORMACION DE PARAMETROS Z A ABCD\n",
    "<img src=\"./11_13.jpg\"/> "
   ]
  },
  {
   "cell_type": "markdown",
   "id": "217c3b58-a4f3-4f10-9bab-4a4f6583b721",
   "metadata": {},
   "source": [
    "# CIRCUITO 5 - OTA\n",
    "# PARAMETROS Z (SOBRE MODELIZACION REAL e IDEAL)\n",
    "Aclaracion:  La transformacion a parametros ABCD se realizo con la matriz Tz(real)\n",
    "<img src=\"./12_13.jpg\"/> \n",
    "\n",
    "# TRANSFORMACION DE PARAMETROS Z A ABCD (MODELIZACION REAL)\n",
    "<img src=\"./12b_13.jpg\"/> \n",
    "\n",
    "# anexo: PARAMETROS Y \n",
    "<img src=\"./12c_13.jpg\"/> "
   ]
  },
  {
   "cell_type": "markdown",
   "id": "76b3c590-1d69-4473-a876-bb78f5846c60",
   "metadata": {},
   "source": [
    "# CIRCUITO 6 - TRANSFORMADOR IDEAL\n",
    "# PARAMETROS Z Y TRANSFORMACION DE PARAMETROS Z A ABCD \n",
    "\n",
    "<img src=\"./13_13.jpg\"/> \n",
    "\n"
   ]
  }
 ],
 "metadata": {
  "kernelspec": {
   "display_name": "Python 3 (ipykernel)",
   "language": "python",
   "name": "python3"
  },
  "language_info": {
   "codemirror_mode": {
    "name": "ipython",
    "version": 3
   },
   "file_extension": ".py",
   "mimetype": "text/x-python",
   "name": "python",
   "nbconvert_exporter": "python",
   "pygments_lexer": "ipython3",
   "version": "3.12.10"
  }
 },
 "nbformat": 4,
 "nbformat_minor": 5
}
